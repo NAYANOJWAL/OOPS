{
  "nbformat": 4,
  "nbformat_minor": 0,
  "metadata": {
    "colab": {
      "provenance": []
    },
    "kernelspec": {
      "name": "python3",
      "display_name": "Python 3"
    },
    "language_info": {
      "name": "python"
    }
  },
  "cells": [
    {
      "cell_type": "markdown",
      "source": [
        "# **THEORTICAL QUESTIONS**"
      ],
      "metadata": {
        "id": "bbH_U5MCCdX2"
      }
    },
    {
      "cell_type": "markdown",
      "source": [
        "**1. What is Object-Oriented Programming (OOP)?**\n",
        "  - OOP is a programming paradigm that\n",
        "  organizes code using objects and\n",
        "  classes to model real-world entities.\n",
        "\n",
        "\n",
        "**2. What is a class in OOP?**\n",
        "  - A class is a blueprint for creating\n",
        "  objects with specific attributes and behaviors.\n",
        "\n",
        "\n",
        "**3. What is an object in OOP?**\n",
        "  - An object is an instance of a class that holds data and can perform actions.\n",
        "\n",
        "\n",
        "**4. What is the difference between Abstraction and Encapsulation?**\n",
        "  - Abstraction hides complexity by exposing only essential details.\n",
        "  - Encapsulation restricts access to internal data using access modifiers.\n",
        "\n",
        "\n",
        "**5. What are dunder methods in Python?**\n",
        "  - Dunder (double underscore) methods like __init__, __str__ are special methods with double underscores for built-in behavior.\n",
        "\n",
        "\n",
        "**6. Explain the concept of Inheritance in OOP?**\n",
        "  - Inheritance lets one class (child) reuse the properties and methods of another (parent) class.\n",
        "\n",
        "\n",
        "**7. What is Polymorphism in OOP?**\n",
        "  - Polymorphism allows different classes to define the same method name with different behaviors.\n",
        "\n",
        "\n",
        "**8. How is encapsulation achieved in Python?**\n",
        "  - Encapsulation is achieved by using private (__var) or protected (_var) attributes and providing getters/setters.\n",
        "\n",
        "\n",
        "**9. What is a constructor in Python?**\n",
        "  - A constructor is the __init__() method that initializes object state when it's created.\n",
        "\n",
        "**10. What are Class and Static Methods in Python?**\n",
        "  - Class methods take cls and can\n",
        "  access class-level data.\n",
        "  - Static methods don’t take self or cls.\n",
        "\n",
        "**11. What is Method Overloading in Python?**\n",
        "  - Python doesn't support traditional\n",
        "  method overloading; use default or variable-length arguments instead.\n",
        "\n",
        "**12. What is Method Overriding in OOP?**\n",
        "  - Overriding is redefining a parent method in a child class with the same name and parameters.\n",
        "\n",
        "**13. What is a Property Decorator in Python?**\n",
        "  - The @property decorator lets you access a method like an attribute (read-only or controlled).\n",
        "\n",
        "\n",
        "**14. Why is Polymorphism Important in OOP?**\n",
        "  - It enhances flexibility by allowing\n",
        "  the same interface to work for different data types or classes.\n",
        "\n",
        "\n",
        "**15. What is an Abstract Class in Python?**\n",
        "  - An abstract class is a class that\n",
        "  can’t be instantiated and may contain abstract methods (defined using abc module).\n",
        "\n",
        "**16. What are the advantages of OOP?**\n",
        "  - Reusability, modularity, data hiding, scalability, and ease of maintenance.\n",
        "\n",
        "\n",
        "**17. What is the difference between a class Variable and Instance Variable?**\n",
        "  - Class variables are shared among all objects.\n",
        "  - Instance variables are unique per object.\n",
        "\n",
        "\n",
        "**18. What is Multiple Inheritance in Python?**\n",
        "  - It allows a class to inherit from more than one parent class.\n",
        "\n",
        "\n",
        "**19. Explain the purpose of __str__ and __repr__ Methods in python?**\n",
        "  -  __str__ is for user-friendly display.\n",
        "  -  __repr__ is for unambiguous developer representation.\n",
        "\n",
        "\n",
        "**20. What is the Significance of super() function in Python?**\n",
        "  - super() calls a method from the parent class, often used in constructors.\n",
        "\n",
        "\n",
        "**21. What is the Significance of __del__ Method in python?**\n",
        "  - __del__() is a destructor called when an object is deleted (not commonly used in modern Python).\n",
        "\n",
        "\n",
        "**22. What is the difference between @staticmethod and @classmethod in python?**\n",
        " - @staticmethod doesn't take self or cls; @classmethod takes cls and can modify class state.\n",
        "\n",
        "\n",
        "**23. How does Polymorphism Works in python with Inheritance?**\n",
        "  - Child classes override methods, and the same method call behaves differently based on the object’s class.\n",
        "\n",
        "\n",
        "**24. What is Method Chaining in Python OOP?**\n",
        "  - It returns self from methods so multiple method calls can be chained.\n",
        "\n",
        "\n",
        "**25. What is the Purpose of the __call__ Method in python?**\n",
        "  - __call__() lets an object behave like a function when invoked with ()."
      ],
      "metadata": {
        "id": "E1DJezABCiDk"
      }
    },
    {
      "cell_type": "code",
      "execution_count": null,
      "metadata": {
        "id": "N-8ZKyKnCako"
      },
      "outputs": [],
      "source": []
    },
    {
      "cell_type": "markdown",
      "source": [
        "# **PRACTICAL QUESTIONS**"
      ],
      "metadata": {
        "id": "rSgfzImeHDYw"
      }
    },
    {
      "cell_type": "code",
      "source": [
        "# 1.\n",
        "\n",
        "class Animal:\n",
        "    def speak(self):\n",
        "        print(\"Animal speaks\")\n",
        "\n",
        "class Dog(Animal):\n",
        "    def speak(self):\n",
        "        print(\"Bark!\")\n",
        "\n",
        "d = Dog()\n",
        "d.speak()"
      ],
      "metadata": {
        "colab": {
          "base_uri": "https://localhost:8080/"
        },
        "id": "cP35XiejHGgN",
        "outputId": "f22ea9bf-3741-4464-e096-46d62e0a2bb3"
      },
      "execution_count": 1,
      "outputs": [
        {
          "output_type": "stream",
          "name": "stdout",
          "text": [
            "Bark!\n"
          ]
        }
      ]
    },
    {
      "cell_type": "code",
      "source": [
        "# 2.\n",
        "\n",
        "import abc\n",
        "\n",
        "class Shape():\n",
        "    @abc.abstractmethod\n",
        "    def area(self):\n",
        "        pass\n",
        "\n",
        "class Circle(Shape):\n",
        "    def __init__(self, radius):\n",
        "        self.radius = radius\n",
        "\n",
        "    def area(self):\n",
        "        return 3.14 * self.radius ** 2\n",
        "\n",
        "class Rectangle(Shape):\n",
        "    def __init__(self, length, width):\n",
        "        self.length = length\n",
        "        self.width = width\n",
        "\n",
        "    def area(self):\n",
        "        return self.length * self.width\n",
        "\n",
        "\n",
        "c = Circle(5).area()\n",
        "r = Rectangle(4,6).area()\n",
        "print(c)\n",
        "print(r)"
      ],
      "metadata": {
        "colab": {
          "base_uri": "https://localhost:8080/"
        },
        "id": "27mggBMbHWDm",
        "outputId": "c7f5fc28-9e4c-4138-8dd3-bbe8e0319df2"
      },
      "execution_count": 5,
      "outputs": [
        {
          "output_type": "stream",
          "name": "stdout",
          "text": [
            "78.5\n",
            "24\n"
          ]
        }
      ]
    },
    {
      "cell_type": "code",
      "source": [
        "# 3.\n",
        "\n",
        "class Vehicle:\n",
        "    def __init__(self, type):\n",
        "        self.type = type\n",
        "\n",
        "class Car(Vehicle):\n",
        "    def __init__(self, type, model):\n",
        "        super().__init__(type)\n",
        "        self.model = model\n",
        "\n",
        "class ElectricCar(Car):\n",
        "    def __init__(self, type, model, battery):\n",
        "        super().__init__(type, model)\n",
        "        self.battery = battery\n",
        "\n",
        "e = ElectricCar(\"Electric\", \"Tesla\", \"75kWh\")\n",
        "print(e.type, e.model, e.battery)"
      ],
      "metadata": {
        "colab": {
          "base_uri": "https://localhost:8080/"
        },
        "id": "emfdsEB2H-ca",
        "outputId": "8a28ae5c-c9e2-4955-d7cd-57e2daa04170"
      },
      "execution_count": 6,
      "outputs": [
        {
          "output_type": "stream",
          "name": "stdout",
          "text": [
            "Electric Tesla 75kWh\n"
          ]
        }
      ]
    },
    {
      "cell_type": "code",
      "source": [
        "# 4.\n",
        "\n",
        "class Bird:\n",
        "    def fly(self):\n",
        "        print(\"Some birds can fly.\")\n",
        "\n",
        "class Sparrow(Bird):\n",
        "    def fly(self):\n",
        "        print(\"Sparrow flies high.\")\n",
        "\n",
        "class Penguin(Bird):\n",
        "    def fly(self):\n",
        "        print(\"Penguins cannot fly.\")\n",
        "\n",
        "for b in [Sparrow(), Penguin()]:\n",
        "    b.fly()"
      ],
      "metadata": {
        "colab": {
          "base_uri": "https://localhost:8080/"
        },
        "id": "FeaENv6SIuai",
        "outputId": "668fcc81-5b5d-4b44-9d5a-e99c9da73536"
      },
      "execution_count": 7,
      "outputs": [
        {
          "output_type": "stream",
          "name": "stdout",
          "text": [
            "Sparrow flies high.\n",
            "Penguins cannot fly.\n"
          ]
        }
      ]
    },
    {
      "cell_type": "code",
      "source": [
        "# 5.\n",
        "\n",
        "class BankAccount:\n",
        "    def __init__(self):\n",
        "        self.__balance = 0\n",
        "\n",
        "    def deposit(self, amount):\n",
        "        self.__balance += amount\n",
        "\n",
        "    def withdraw(self, amount):\n",
        "        if amount <= self.__balance:\n",
        "            self.__balance -= amount\n",
        "\n",
        "    def check_balance(self):\n",
        "        return self.__balance\n",
        "\n",
        "acc = BankAccount()\n",
        "acc.deposit(1000)\n",
        "acc.withdraw(400)\n",
        "print(acc.check_balance())\n"
      ],
      "metadata": {
        "colab": {
          "base_uri": "https://localhost:8080/"
        },
        "id": "rMccYAnMJBCl",
        "outputId": "2d69cee0-dbf0-45a9-d167-cb853c9978b7"
      },
      "execution_count": 8,
      "outputs": [
        {
          "output_type": "stream",
          "name": "stdout",
          "text": [
            "600\n"
          ]
        }
      ]
    },
    {
      "cell_type": "code",
      "source": [
        "# 6.\n",
        "\n",
        "class Instrument:\n",
        "    def play(self):\n",
        "        print(\"Playing instrument\")\n",
        "\n",
        "class Guitar(Instrument):\n",
        "    def play(self):\n",
        "        print(\"Strumming guitar\")\n",
        "\n",
        "class Piano(Instrument):\n",
        "    def play(self):\n",
        "        print(\"Playing piano\")\n",
        "\n",
        "for i in [Guitar(), Piano()]:\n",
        "    i.play()\n"
      ],
      "metadata": {
        "colab": {
          "base_uri": "https://localhost:8080/"
        },
        "id": "jXEbw9vHJS3t",
        "outputId": "b8f3a99d-0021-46e1-de6b-556715f67797"
      },
      "execution_count": 9,
      "outputs": [
        {
          "output_type": "stream",
          "name": "stdout",
          "text": [
            "Strumming guitar\n",
            "Playing piano\n"
          ]
        }
      ]
    },
    {
      "cell_type": "code",
      "source": [
        "# 7.\n",
        "\n",
        "class MathOperations:\n",
        "    @classmethod\n",
        "    def add_numbers(cls, a, b):\n",
        "        return a + b\n",
        "\n",
        "    @staticmethod\n",
        "    def subtract_numbers(a, b):\n",
        "        return a - b\n",
        "\n",
        "print(MathOperations.add_numbers(10, 5))\n",
        "print(MathOperations.subtract_numbers(10, 5))\n"
      ],
      "metadata": {
        "colab": {
          "base_uri": "https://localhost:8080/"
        },
        "id": "S3i_K1vdJXf-",
        "outputId": "e099a2cf-9a79-4de4-bd7c-f4de093edd6c"
      },
      "execution_count": 10,
      "outputs": [
        {
          "output_type": "stream",
          "name": "stdout",
          "text": [
            "15\n",
            "5\n"
          ]
        }
      ]
    },
    {
      "cell_type": "code",
      "source": [
        "# 8.\n",
        "\n",
        "class Person:\n",
        "    count = 0\n",
        "\n",
        "    def __init__(self):\n",
        "        Person.count += 1\n",
        "\n",
        "    @classmethod\n",
        "    def total_persons(cls):\n",
        "        return cls.count\n",
        "\n",
        "p1 = Person()\n",
        "p2 = Person()\n",
        "print(Person.total_persons())\n",
        "\n"
      ],
      "metadata": {
        "colab": {
          "base_uri": "https://localhost:8080/"
        },
        "id": "gaNfMUgIJajv",
        "outputId": "8fa3d008-13fc-4454-fed6-4bd97ca04dbe"
      },
      "execution_count": 11,
      "outputs": [
        {
          "output_type": "stream",
          "name": "stdout",
          "text": [
            "2\n"
          ]
        }
      ]
    },
    {
      "cell_type": "code",
      "source": [
        "# 9.\n",
        "\n",
        "class Fraction:\n",
        "    def __init__(self, num, den):\n",
        "        self.num = num\n",
        "        self.den = den\n",
        "\n",
        "    def __str__(self):\n",
        "        return f\"{self.num}/{self.den}\"\n",
        "\n",
        "f = Fraction(3, 4)\n",
        "print(f)"
      ],
      "metadata": {
        "colab": {
          "base_uri": "https://localhost:8080/"
        },
        "id": "nmysuttLJiuN",
        "outputId": "9199c777-bb89-43a9-d20f-60935ec48acc"
      },
      "execution_count": 12,
      "outputs": [
        {
          "output_type": "stream",
          "name": "stdout",
          "text": [
            "3/4\n"
          ]
        }
      ]
    },
    {
      "cell_type": "code",
      "source": [
        "# 10.\n",
        "\n",
        "class Vector:\n",
        "    def __init__(self, x, y):\n",
        "        self.x = x\n",
        "        self.y = y\n",
        "\n",
        "    def __add__(self, other):\n",
        "        return Vector(self.x + other.x, self.y + other.y)\n",
        "\n",
        "    def __str__(self):\n",
        "        return f\"({self.x}, {self.y})\"\n",
        "\n",
        "v1 = Vector(2, 3)\n",
        "v2 = Vector(4, 5)\n",
        "print(v1 + v2)"
      ],
      "metadata": {
        "colab": {
          "base_uri": "https://localhost:8080/"
        },
        "id": "pZUs7IW_JmEx",
        "outputId": "4bf7fe54-fc16-4d07-9ca0-39e505108f0e"
      },
      "execution_count": 13,
      "outputs": [
        {
          "output_type": "stream",
          "name": "stdout",
          "text": [
            "(6, 8)\n"
          ]
        }
      ]
    },
    {
      "cell_type": "code",
      "source": [
        "# 11.\n",
        "\n",
        "class Person:\n",
        "    def __init__(self, name, age):\n",
        "        self.name = name\n",
        "        self.age = age\n",
        "\n",
        "    def greet(self):\n",
        "        print(f\"Hello, my name is {self.name} and I am {self.age} years old.\")\n",
        "\n",
        "Person(\"Alice\", 30).greet()"
      ],
      "metadata": {
        "colab": {
          "base_uri": "https://localhost:8080/"
        },
        "id": "nMdVfm4AJozV",
        "outputId": "be43caf9-df9c-4386-fd12-54f0f841dcfb"
      },
      "execution_count": 14,
      "outputs": [
        {
          "output_type": "stream",
          "name": "stdout",
          "text": [
            "Hello, my name is Alice and I am 30 years old.\n"
          ]
        }
      ]
    },
    {
      "cell_type": "code",
      "source": [
        "# 12.\n",
        "\n",
        "class Student:\n",
        "    def __init__(self, name, grades):\n",
        "        self.name = name\n",
        "        self.grades = grades\n",
        "\n",
        "    def average_grade(self):\n",
        "        return sum(self.grades) / len(self.grades)\n",
        "\n",
        "s = Student(\"John\", [80, 90, 85])\n",
        "print(s.average_grade())"
      ],
      "metadata": {
        "colab": {
          "base_uri": "https://localhost:8080/"
        },
        "id": "GRBsa8cmJsua",
        "outputId": "c778d8e7-9a0e-4a31-d282-5aa8833ca7b7"
      },
      "execution_count": 15,
      "outputs": [
        {
          "output_type": "stream",
          "name": "stdout",
          "text": [
            "85.0\n"
          ]
        }
      ]
    },
    {
      "cell_type": "code",
      "source": [
        "# 13.\n",
        "\n",
        "class Rectangle:\n",
        "    def set_dimensions(self, length, width):\n",
        "        self.length = length\n",
        "        self.width = width\n",
        "\n",
        "    def area(self):\n",
        "        return self.length * self.width\n",
        "\n",
        "r = Rectangle()\n",
        "r.set_dimensions(5, 3)\n",
        "print(r.area())"
      ],
      "metadata": {
        "colab": {
          "base_uri": "https://localhost:8080/"
        },
        "id": "rWjLCojwJv2M",
        "outputId": "7c27f885-0cf4-4019-a31d-0b7df42bd07c"
      },
      "execution_count": 16,
      "outputs": [
        {
          "output_type": "stream",
          "name": "stdout",
          "text": [
            "15\n"
          ]
        }
      ]
    },
    {
      "cell_type": "code",
      "source": [
        "# 14.\n",
        "\n",
        "class Employee:\n",
        "    def calculate_salary(self, hours, rate):\n",
        "        return hours * rate\n",
        "\n",
        "class Manager(Employee):\n",
        "    def calculate_salary(self, hours, rate, bonus):\n",
        "        base = super().calculate_salary(hours, rate)\n",
        "        return base + bonus\n",
        "\n",
        "m = Manager()\n",
        "print(m.calculate_salary(40, 50, 500))"
      ],
      "metadata": {
        "colab": {
          "base_uri": "https://localhost:8080/"
        },
        "id": "emp1VqOkJys6",
        "outputId": "d6cee918-8863-4020-bd21-aada91bb5711"
      },
      "execution_count": 17,
      "outputs": [
        {
          "output_type": "stream",
          "name": "stdout",
          "text": [
            "2500\n"
          ]
        }
      ]
    },
    {
      "cell_type": "code",
      "source": [
        "# 15.\n",
        "\n",
        "class Product:\n",
        "    def __init__(self, name, price, quantity):\n",
        "        self.name = name\n",
        "        self.price = price\n",
        "        self.quantity = quantity\n",
        "\n",
        "    def total_price(self):\n",
        "        return self.price * self.quantity\n",
        "\n",
        "p = Product(\"Laptop\", 50000, 2)\n",
        "print(p.total_price())"
      ],
      "metadata": {
        "colab": {
          "base_uri": "https://localhost:8080/"
        },
        "id": "7V31l7GQJ2zU",
        "outputId": "8bde2c1b-ec41-4a92-a04b-ee7ada72f678"
      },
      "execution_count": 18,
      "outputs": [
        {
          "output_type": "stream",
          "name": "stdout",
          "text": [
            "100000\n"
          ]
        }
      ]
    },
    {
      "cell_type": "code",
      "source": [
        "# 16.\n",
        "\n",
        "import abc\n",
        "\n",
        "class Animal():\n",
        "    @abc.abstractmethod\n",
        "    def sound(self):\n",
        "        pass\n",
        "\n",
        "class Cow(Animal):\n",
        "    def sound(self):\n",
        "        print(\"Moo\")\n",
        "\n",
        "class Sheep(Animal):\n",
        "    def sound(self):\n",
        "        print(\"Baa\")\n",
        "\n",
        "Cow().sound()\n",
        "Sheep().sound()"
      ],
      "metadata": {
        "colab": {
          "base_uri": "https://localhost:8080/"
        },
        "id": "e0VwB5lDJ5-X",
        "outputId": "5bdd5d25-6a57-449a-b0c3-6fd54be66e2f"
      },
      "execution_count": 19,
      "outputs": [
        {
          "output_type": "stream",
          "name": "stdout",
          "text": [
            "Moo\n",
            "Baa\n"
          ]
        }
      ]
    },
    {
      "cell_type": "code",
      "source": [
        "# 17.\n",
        "\n",
        "class Book:\n",
        "    def __init__(self, title, author, year):\n",
        "        self.title = title\n",
        "        self.author = author\n",
        "        self.year = year\n",
        "\n",
        "    def get_book_info(self):\n",
        "        return f\"'{self.title}' by {self.author} ({self.year})\"\n",
        "\n",
        "b = Book(\"1984\", \"George Orwell\", 1949)\n",
        "print(b.get_book_info())"
      ],
      "metadata": {
        "colab": {
          "base_uri": "https://localhost:8080/"
        },
        "id": "ksyX7psPKFHN",
        "outputId": "eed80dd3-cef7-4d6d-ab83-5945f2396cf3"
      },
      "execution_count": 20,
      "outputs": [
        {
          "output_type": "stream",
          "name": "stdout",
          "text": [
            "'1984' by George Orwell (1949)\n"
          ]
        }
      ]
    },
    {
      "cell_type": "code",
      "source": [
        "# 18.\n",
        "\n",
        "class House:\n",
        "    def __init__(self, address, price):\n",
        "        self.address = address\n",
        "        self.price = price\n",
        "\n",
        "class Mansion(House):\n",
        "    def __init__(self, address, price, rooms):\n",
        "        super().__init__(address, price)\n",
        "        self.rooms = rooms\n",
        "\n",
        "m = Mansion(\"123 Rich St\", 1000000, 10)\n",
        "print(m.address, m.price, m.rooms)\n"
      ],
      "metadata": {
        "colab": {
          "base_uri": "https://localhost:8080/"
        },
        "id": "xQo907UoKIuM",
        "outputId": "0da7537e-97cb-468b-e3b5-4a11006770cf"
      },
      "execution_count": 21,
      "outputs": [
        {
          "output_type": "stream",
          "name": "stdout",
          "text": [
            "123 Rich St 1000000 10\n"
          ]
        }
      ]
    },
    {
      "cell_type": "code",
      "source": [],
      "metadata": {
        "id": "Ewc09NB7KLMe"
      },
      "execution_count": null,
      "outputs": []
    }
  ]
}